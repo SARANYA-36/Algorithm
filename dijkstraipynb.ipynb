{
  "nbformat": 4,
  "nbformat_minor": 0,
  "metadata": {
    "colab": {
      "provenance": [],
      "authorship_tag": "ABX9TyP2GivnRjew/qx06b3WI9h8",
      "include_colab_link": true
    },
    "kernelspec": {
      "name": "python3",
      "display_name": "Python 3"
    },
    "language_info": {
      "name": "python"
    }
  },
  "cells": [
    {
      "cell_type": "markdown",
      "metadata": {
        "id": "view-in-github",
        "colab_type": "text"
      },
      "source": [
        "<a href=\"https://colab.research.google.com/github/SARANYA-36/Algorithm/blob/main/dijkstraipynb.ipynb\" target=\"_parent\"><img src=\"https://colab.research.google.com/assets/colab-badge.svg\" alt=\"Open In Colab\"/></a>"
      ]
    },
    {
      "cell_type": "code",
      "source": [
        "import heapq\n",
        "class Graph:\n",
        "  def __init__(self,vertices):\n",
        "    self.V = vertices\n",
        "    self.graph = {v:[] for v in range(vertices)}\n",
        "  def add_edge(self,u,v,weight):\n",
        "    self.graph[u].append((v,weight))\n",
        "  def dijkstra(self,start):\n",
        "    distances = {v: float('inf') for v in range (self.V)}\n",
        "    distances[start] = 0\n",
        "    priority_queue = [(0, start)]\n",
        "    while priority_queue:\n",
        "      current_distance, current_vertex = heapq.heappop(priority_queue)\n",
        "      for neighbour,weight in self.graph[current_vertex]:\n",
        "        distance = current_distance + weight\n",
        "        if distance < distances[neighbour]:\n",
        "          distances[neighbour] = distance\n",
        "          heapq.heappush(priority_queue,(distance, neighbour))\n",
        "    print(f\"Shortest paths from vertex {start}:\")\n",
        "    for vertex in range(self.V):\n",
        "      print(f\"Vertex {vertex} : Distance {distances[vertex]}\")\n",
        "if __name__ == \"__main__\":\n",
        "  g = Graph(5)\n",
        "  g.add_edge(0,1,10)\n",
        "  g.add_edge(0,4,5)\n",
        "  g.add_edge(1,2,1)\n",
        "  g.add_edge(1,4,2)\n",
        "  g.add_edge(2,3,4)\n",
        "  g.add_edge(3,0,7)\n",
        "  g.add_edge(4,1,3)\n",
        "  g.add_edge(4,2,9)\n",
        "  g.add_edge(4,3,2)\n",
        "  start_vertex = 0\n",
        "  g.dijkstra(start_vertex)\n"
      ],
      "metadata": {
        "colab": {
          "base_uri": "https://localhost:8080/"
        },
        "id": "9w7SG4RjGzxr",
        "outputId": "0b2b9378-e544-47cb-d2bf-10087d906f32"
      },
      "execution_count": 11,
      "outputs": [
        {
          "output_type": "stream",
          "name": "stdout",
          "text": [
            "Shortest paths from vertex 0:\n",
            "Vertex 0 : Distance 0\n",
            "Vertex 1 : Distance 8\n",
            "Vertex 2 : Distance 9\n",
            "Vertex 3 : Distance 7\n",
            "Vertex 4 : Distance 5\n"
          ]
        }
      ]
    }
  ]
}