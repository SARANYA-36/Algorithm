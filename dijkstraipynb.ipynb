{
  "nbformat": 4,
  "nbformat_minor": 0,
  "metadata": {
    "colab": {
      "provenance": [],
      "authorship_tag": "ABX9TyPnZjRG1LcNpPnkcg5+SoS3",
      "include_colab_link": true
    },
    "kernelspec": {
      "name": "python3",
      "display_name": "Python 3"
    },
    "language_info": {
      "name": "python"
    }
  },
  "cells": [
    {
      "cell_type": "markdown",
      "metadata": {
        "id": "view-in-github",
        "colab_type": "text"
      },
      "source": [
        "<a href=\"https://colab.research.google.com/github/SARANYA-36/Algorithm/blob/main/dijkstraipynb.ipynb\" target=\"_parent\"><img src=\"https://colab.research.google.com/assets/colab-badge.svg\" alt=\"Open In Colab\"/></a>"
      ]
    },
    {
      "cell_type": "code",
      "source": [
        "import heapq\n",
        "class Graph:\n",
        "  def __init__(self,vertices):\n",
        "    self.V = vertices\n",
        "    self.graph = {v:[] for v in range(vertices)}\n",
        "  def add_edge(self,u,v,weight):\n",
        "    self.graph[u].append((v,weight))\n",
        "  def dijkstra(self,start):\n",
        "    distances = {v: float('inf') for v in range (self.V)}\n",
        "    distances[start] = 0\n",
        "    priority_queue = [(0, start)]\n",
        "    while priority_queue:\n",
        "      current_distance, current_vertex = heapq.heappop(priority_queue)\n",
        "      for neighbour,weight in self.graph[current_vertex]:\n",
        "        distance = current_distance + weight\n",
        "        if distance < distances[neighbour]:\n",
        "          distances[neighbour] = distance\n",
        "          heapq.heappush(priority_queue,(distance, neighbour))\n",
        "    print(f\"Shortest paths from vertex {start}:\")\n",
        "    for vertex in range(self.V):\n",
        "      print(f\"Vertex {vertex} : Distance {distances[vertex]}\")\n",
        "if __name__ == \"__main__\":\n",
        "  g = Graph(5)\n",
        "  g.add_edge(0,1,10)\n",
        "  g.add_edge(0,4,5)\n",
        "  g.add_edge(1,2,1)\n",
        "  g.add_edge(1,4,2)\n",
        "  g.add_edge(2,3,4)\n",
        "  g.add_edge(3,0,7)\n",
        "  g.add_edge(4,1,3)\n",
        "  g.add_edge(4,2,9)\n",
        "  g.add_edge(4,3,2)\n",
        "  start_vertex = 0\n",
        "  g.dijkstra(start_vertex)"
      ],
      "metadata": {
        "colab": {
          "base_uri": "https://localhost:8080/"
        },
        "id": "9w7SG4RjGzxr",
        "outputId": "0b2b9378-e544-47cb-d2bf-10087d906f32"
      },
      "execution_count": null,
      "outputs": [
        {
          "output_type": "stream",
          "name": "stdout",
          "text": [
            "Shortest paths from vertex 0:\n",
            "Vertex 0 : Distance 0\n",
            "Vertex 1 : Distance 8\n",
            "Vertex 2 : Distance 9\n",
            "Vertex 3 : Distance 7\n",
            "Vertex 4 : Distance 5\n"
          ]
        }
      ]
    },
    {
      "cell_type": "code",
      "source": [
        "import heapq\n",
        "class Graph:\n",
        "  def __init__(self,vertices):\n",
        "    self.V = vertices\n",
        "    self.graph = {v: [] for v in range(vertices)}\n",
        "  def add_edge(self, u, v, weight):\n",
        "    self.graph[u].append((v,weight))\n",
        "    self.graph[v].append((u,weight))\n",
        "  def prim_mst(self):\n",
        "    visited = [False] * self.V\n",
        "    min_heap = [(0,0)]\n",
        "    mst_cost = 0\n",
        "    mst_edges = []\n",
        "    while min_heap:\n",
        "      weight, u = heapq.heappop(min_heap)\n",
        "      if visited[u]:\n",
        "        continue\n",
        "      visited[u] = True\n",
        "      mst_cost += weight\n",
        "      for v,w in self.graph[u]:\n",
        "        if not visited[v]:\n",
        "          heapq.heappush(min_heap,(w,v))\n",
        "          mst_edges.append((u,v,w))\n",
        "    print(\"Minimum Spanning Tree edges:\")\n",
        "    for u, v, w  in mst_edges:\n",
        "      if visited[u] and visited[v]:\n",
        "        print(f\"{u} - {v} : {w}\")\n",
        "    print(f\"Total cost of MST: {mst_cost}\")\n",
        "if __name__ == \"__main__\":\n",
        "    g = Graph(5)\n",
        "    g.add_edge(0, 1, 2)\n",
        "    g.add_edge(0, 3, 6)\n",
        "    g.add_edge(1, 2, 3)\n",
        "    g.add_edge(1, 3, 8)\n",
        "    g.add_edge(1, 4, 5)\n",
        "    g.add_edge(2, 4, 7)\n",
        "    g.add_edge(3, 4, 9)\n",
        "    g.prim_mst()"
      ],
      "metadata": {
        "id": "7LQt-yOWPbJJ",
        "colab": {
          "base_uri": "https://localhost:8080/"
        },
        "outputId": "f420ce41-a412-4e04-9f50-83f5c4a893f3"
      },
      "execution_count": null,
      "outputs": [
        {
          "output_type": "stream",
          "name": "stdout",
          "text": [
            "Minimum Spanning Tree edges:\n",
            "0 - 1 : 2\n",
            "0 - 3 : 6\n",
            "1 - 2 : 3\n",
            "1 - 3 : 8\n",
            "1 - 4 : 5\n",
            "2 - 4 : 7\n",
            "4 - 3 : 9\n",
            "Total cost of MST: 16\n"
          ]
        }
      ]
    },
    {
      "cell_type": "code",
      "source": [
        "INF = float('inf')\n",
        "def floyd_warshall(graph):\n",
        "    num_vertices = len(graph)\n",
        "    dist = [[graph[i][j] for j in range(num_vertices)] for i in range(num_vertices)]\n",
        "    for k in range(num_vertices):\n",
        "        for i in range(num_vertices):\n",
        "            for j in range(num_vertices):\n",
        "                if dist[i][k] + dist[k][j] < dist[i][j]:\n",
        "                    dist[i][j] = dist[i][k] + dist[k][j]\n",
        "    print(\"All-Pairs Shortest Paths (Floyd-Warshall):\")\n",
        "    for i in range(num_vertices):\n",
        "        for j in range(num_vertices):\n",
        "            if dist[i][j] == INF:\n",
        "                print(\"INF\", end=\"\\t\")\n",
        "            else:\n",
        "                print(dist[i][j], end=\"\\t\")\n",
        "        print()\n",
        "if __name__ == \"__main__\":\n",
        "    graph = [[0,   3,   INF, 5],[2,   0,   INF, 4],[INF, 1,   0,   INF],[INF, INF, 2,   0]]\n",
        "    floyd_warshall(graph)"
      ],
      "metadata": {
        "colab": {
          "base_uri": "https://localhost:8080/"
        },
        "id": "aaBOGvX3TzLM",
        "outputId": "dde64777-806c-49c9-d10e-982c97822cd5"
      },
      "execution_count": null,
      "outputs": [
        {
          "output_type": "stream",
          "name": "stdout",
          "text": [
            "All-Pairs Shortest Paths (Floyd-Warshall):\n",
            "0\t3\t7\t5\t\n",
            "2\t0\t6\t4\t\n",
            "3\t1\t0\t5\t\n",
            "5\t3\t2\t0\t\n"
          ]
        }
      ]
    },
    {
      "cell_type": "code",
      "source": [
        "def warshall_algorithm(graph):\n",
        "    n = len(graph)\n",
        "    reach = [[graph[i][j] for j in range(n)] for i in range(n)]\n",
        "    for k in range(n):\n",
        "        for i in range(n):\n",
        "            for j in range(n):\n",
        "                reach[i][j] = reach[i][j] or (reach[i][k] and reach[k][j])\n",
        "    return reach\n",
        "if __name__ == \"__main__\":\n",
        "    graph = [[1, 1, 0, 0],[0, 1, 1, 0],[0, 0, 1, 1],[0, 0, 0, 1]]\n",
        "    closure = warshall_algorithm(graph)\n",
        "    print(\"Transitive Closure (Warshall's Algorithm):\")\n",
        "    for row in closure:\n",
        "        print(\" \".join(str(val) for val in row))"
      ],
      "metadata": {
        "colab": {
          "base_uri": "https://localhost:8080/"
        },
        "id": "g0U3mHYVVEdm",
        "outputId": "a89d80d9-ee48-44ee-fb14-812f0097c39d"
      },
      "execution_count": null,
      "outputs": [
        {
          "output_type": "stream",
          "name": "stdout",
          "text": [
            "Transitive Closure (Warshall's Algorithm):\n",
            "1 1 1 1\n",
            "0 1 1 1\n",
            "0 0 1 1\n",
            "0 0 0 1\n"
          ]
        }
      ]
    },
    {
      "cell_type": "code",
      "source": [
        "def find_max_min(arr, low, high):\n",
        "    if low == high:\n",
        "        return arr[low], arr[low]\n",
        "    elif high == low + 1:\n",
        "        if arr[low] > arr[high]:\n",
        "            return arr[low], arr[high]\n",
        "        else:\n",
        "            return arr[high], arr[low]\n",
        "    else:\n",
        "        mid = (low + high) // 2\n",
        "        max1, min1 = find_max_min(arr, low, mid)\n",
        "        max2, min2 = find_max_min(arr, mid + 1, high)\n",
        "\n",
        "        return max(max1, max2), min(min1, min2)\n",
        "arr = [12, 3, 45, 7, 22, 18, 90, 1]\n",
        "maximum, minimum = find_max_min(arr, 0, len(arr) - 1)\n",
        "\n",
        "print(\"Maximum number:\", maximum)\n",
        "print(\"Minimum number:\", minimum)\n"
      ],
      "metadata": {
        "id": "TK1vQz7sVw7H",
        "colab": {
          "base_uri": "https://localhost:8080/"
        },
        "outputId": "b5878141-015b-4b7b-d275-39c184d5acfd"
      },
      "execution_count": null,
      "outputs": [
        {
          "output_type": "stream",
          "name": "stdout",
          "text": [
            "Maximum number: 90\n",
            "Minimum number: 1\n"
          ]
        }
      ]
    },
    {
      "cell_type": "code",
      "source": [
        "import random\n",
        "import time\n",
        "import matplotlib.pyplot as plt\n",
        "def merge_sort(arr):\n",
        "    if len(arr) > 1:\n",
        "        mid = len(arr) // 2\n",
        "        L = arr[:mid]\n",
        "        R = arr[mid:]\n",
        "        merge_sort(L)\n",
        "        merge_sort(R)\n",
        "        i = j = k = 0\n",
        "        while i < len(L) and j < len(R):\n",
        "            if L[i] < R[j]:\n",
        "                arr[k] = L[i]\n",
        "                i += 1\n",
        "            else:\n",
        "                arr[k] = R[j]\n",
        "                j += 1\n",
        "            k += 1\n",
        "        while i < len(L):\n",
        "            arr[k] = L[i]\n",
        "            i += 1\n",
        "            k += 1\n",
        "        while j < len(R):\n",
        "            arr[k] = R[j]\n",
        "            j += 1\n",
        "            k += 1\n",
        "def quick_sort(arr):\n",
        "    def _quick_sort(items, low, high):\n",
        "        if low < high:\n",
        "            pi = partition(items, low, high)\n",
        "            _quick_sort(items, low, pi - 1)\n",
        "            _quick_sort(items, pi + 1, high)\n",
        "    def partition(items, low, high):\n",
        "        pivot = items[high]\n",
        "        i = low - 1\n",
        "        for j in range(low, high):\n",
        "            if items[j] <= pivot:\n",
        "                i += 1\n",
        "                items[i], items[j] = items[j], items[i]\n",
        "        items[i + 1], items[high] = items[high], items[i + 1]\n",
        "        return i + 1\n",
        "    _quick_sort(arr, 0, len(arr) - 1)\n",
        "def measure_and_plot():\n",
        "    sizes = [100, 500, 1000, 5000, 10000, 20000]\n",
        "    merge_times = []\n",
        "    quick_times = []\n",
        "    for n in sizes:\n",
        "        data = random.sample(range(1, n * 10), n)\n",
        "        data_merge = data[:]\n",
        "        start = time.time()\n",
        "        merge_sort(data_merge)\n",
        "        merge_times.append(time.time() - start)\n",
        "        data_quick = data[:]\n",
        "        start = time.time()\n",
        "        quick_sort(data_quick)\n",
        "        quick_times.append(time.time() - start)\n",
        "    plt.plot(sizes, merge_times, label='Merge Sort', marker='o')\n",
        "    plt.plot(sizes, quick_times, label='Quick Sort', marker='s')\n",
        "    plt.xlabel('Number of Elements (n)')\n",
        "    plt.ylabel('Time Taken (seconds)')\n",
        "    plt.title('Sorting Time vs Number of Elements')\n",
        "    plt.legend()\n",
        "    plt.grid(True)\n",
        "    plt.show()\n",
        "measure_and_plot()\n"
      ],
      "metadata": {
        "colab": {
          "base_uri": "https://localhost:8080/",
          "height": 472
        },
        "id": "5F2BTwkPuNny",
        "outputId": "4136d59c-a28f-445e-ce52-59e0b8b2ea07"
      },
      "execution_count": null,
      "outputs": [
        {
          "output_type": "display_data",
          "data": {
            "text/plain": [
              "<Figure size 640x480 with 1 Axes>"
            ],
            "image/png": "[encoded data removed]"
          },
          "metadata": {}
        }
      ]
    },
    {
      "cell_type": "code",
      "source": [
        "def print_solution(board):\n",
        "    n = len(board)\n",
        "    for row in board:\n",
        "        print(\" \".join(\"Q\" if col else \".\" for col in row))\n",
        "    print(\"\\n\")\n",
        "def is_safe(board, row, col, n):\n",
        "    for i in range(row):\n",
        "        if board[i][col]:\n",
        "            return False\n",
        "    for i, j in zip(range(row-1, -1, -1), range(col-1, -1, -1)):\n",
        "        if board[i][j]:\n",
        "            return False\n",
        "    for i, j in zip(range(row-1, -1, -1), range(col+1, n)):\n",
        "        if board[i][j]:\n",
        "            return False\n",
        "    return True\n",
        "def solve_n_queens_util(board, row, n):\n",
        "    if row == n:\n",
        "        print(\"One of the solutions:\")\n",
        "        print_solution(board)\n",
        "        return True\n",
        "    for col in range(n):\n",
        "        if is_safe(board, row, col, n):\n",
        "            board[row][col] = 1\n",
        "            if solve_n_queens_util(board, row + 1, n):\n",
        "                return True\n",
        "            board[row][col] = 0\n",
        "    return False\n",
        "def solve_n_queens(n):\n",
        "    board = [[0 for _ in range(n)] for _ in range(n)]\n",
        "    if not solve_n_queens_util(board, 0, n):\n",
        "        print(\"No solution exists.\")\n",
        "n = 8\n",
        "solve_n_queens(n)"
      ],
      "metadata": {
        "colab": {
          "base_uri": "https://localhost:8080/"
        },
        "id": "lb258BYxusxy",
        "outputId": "283c6d83-909c-45cf-a9e4-6a99d95ba09f"
      },
      "execution_count": null,
      "outputs": [
        {
          "output_type": "stream",
          "name": "stdout",
          "text": [
            "One of the solutions:\n",
            "Q . . . . . . .\n",
            ". . . . Q . . .\n",
            ". . . . . . . Q\n",
            ". . . . . Q . .\n",
            ". . Q . . . . .\n",
            ". . . . . . Q .\n",
            ". Q . . . . . .\n",
            ". . . Q . . . .\n",
            "\n",
            "\n"
          ]
        }
      ]
    },
    {
      "cell_type": "code",
      "source": [
        "import itertools\n",
        "import math\n",
        "import random\n",
        "def generate_distance_matrix(n, seed=42):\n",
        "    random.seed(seed)\n",
        "    matrix = [[0]*n for _ in range(n)]\n",
        "    for i in range(n):\n",
        "        for j in range(i + 1, n):\n",
        "            dist = random.randint(10, 100)\n",
        "            matrix[i][j] = dist\n",
        "            matrix[j][i] = dist\n",
        "    return matrix\n",
        "def tsp_brute_force(dist_matrix):\n",
        "    n = len(dist_matrix)\n",
        "    cities = list(range(n))\n",
        "    min_tour = None\n",
        "    min_cost = float('inf')\n",
        "    for perm in itertools.permutations(cities[1:]):\n",
        "        tour = [0] + list(perm) + [0]\n",
        "        cost = sum(dist_matrix[tour[i]][tour[i+1]] for i in range(n))\n",
        "        if cost < min_cost:\n",
        "            min_cost = cost\n",
        "            min_tour = tour\n",
        "    return min_tour, min_cost\n",
        "def tsp_nearest_neighbor(dist_matrix):\n",
        "    n = len(dist_matrix)\n",
        "    visited = [False] * n\n",
        "    tour = [0]\n",
        "    visited[0] = True\n",
        "    current = 0\n",
        "    cost = 0\n",
        "    for _ in range(n - 1):\n",
        "        next_city = min(((j, dist_matrix[current][j]) for j in range(n) if not visited[j]),key=lambda x: x[1])[0]\n",
        "        cost += dist_matrix[current][next_city]\n",
        "        tour.append(next_city)\n",
        "        visited[next_city] = True\n",
        "        current = next_city\n",
        "    cost += dist_matrix[current][0]\n",
        "    tour.append(0)\n",
        "    return tour, cost\n",
        "def compare_methods(n=6):\n",
        "    dist_matrix = generate_distance_matrix(n)\n",
        "    print(\"\\nDistance Matrix:\")\n",
        "    for row in dist_matrix:\n",
        "        print(row)\n",
        "    opt_tour, opt_cost = tsp_brute_force(dist_matrix)\n",
        "    print(\"\\nOptimal (Exact) Solution:\")\n",
        "    print(\"Tour:\", opt_tour)\n",
        "    print(\"Cost:\", opt_cost)\n",
        "    approx_tour, approx_cost = tsp_nearest_neighbor(dist_matrix)\n",
        "    print(\"\\nApproximate (Nearest Neighbor) Solution:\")\n",
        "    print(\"Tour:\", approx_tour)\n",
        "    print(\"Cost:\", approx_cost)\n",
        "    error_percent = ((approx_cost - opt_cost) / opt_cost) * 100\n",
        "    print(f\"\\nError in Approximation: {error_percent:.2f}%\")\n",
        "compare_methods(n=6)"
      ],
      "metadata": {
        "colab": {
          "base_uri": "https://localhost:8080/"
        },
        "id": "Uhw7IEVNvYG8",
        "outputId": "1ca91681-1327-4b82-a640-1e1aa959c7ec"
      },
      "execution_count": null,
      "outputs": [
        {
          "output_type": "stream",
          "name": "stdout",
          "text": [
            "\n",
            "Distance Matrix:\n",
            "[0, 91, 24, 13, 45, 41]\n",
            "[91, 0, 38, 27, 23, 96]\n",
            "[24, 38, 0, 79, 21, 85]\n",
            "[13, 27, 79, 0, 64, 14]\n",
            "[45, 23, 21, 64, 0, 13]\n",
            "[41, 96, 85, 14, 13, 0]\n",
            "\n",
            "Optimal (Exact) Solution:\n",
            "Tour: [0, 2, 1, 4, 5, 3, 0]\n",
            "Cost: 125\n",
            "\n",
            "Approximate (Nearest Neighbor) Solution:\n",
            "Tour: [0, 3, 5, 4, 2, 1, 0]\n",
            "Cost: 190\n",
            "\n",
            "Error in Approximation: 52.00%\n"
          ]
        }
      ]
    },
    {
      "cell_type": "code",
      "source": [
        "import random\n",
        "def randomized_partition(arr, low, high):\n",
        "    pivot_index = random.randint(low, high)\n",
        "    arr[high], arr[pivot_index] = arr[pivot_index], arr[high]\n",
        "    pivot = arr[high]\n",
        "    i = low - 1\n",
        "    for j in range(low, high):\n",
        "        if arr[j] <= pivot:\n",
        "            i += 1\n",
        "            arr[i], arr[j] = arr[j], arr[i]\n",
        "    arr[i + 1], arr[high] = arr[high], arr[i + 1]\n",
        "    return i + 1\n",
        "def randomized_select(arr, low, high, k):\n",
        "    if low == high:\n",
        "        return arr[low]\n",
        "    pivot_index = randomized_partition(arr, low, high)\n",
        "    count = pivot_index - low + 1\n",
        "    if k == count:\n",
        "        return arr[pivot_index]\n",
        "    elif k < count:\n",
        "        return randomized_select(arr, low, pivot_index - 1, k)\n",
        "    else:\n",
        "        return randomized_select(arr, pivot_index + 1, high, k - count)\n",
        "def find_kth_smallest(arr, k):\n",
        "    if k < 1 or k > len(arr):\n",
        "        raise ValueError(\"k is out of bounds\")\n",
        "    arr_copy = arr[:]\n",
        "    return randomized_select(arr_copy, 0, len(arr_copy) - 1, k)\n",
        "if __name__ == \"__main__\":\n",
        "    arr = [12, 3, 5, 7, 4, 19, 26]\n",
        "    k = 3\n",
        "    result = find_kth_smallest(arr, k)\n",
        "    print(f\"The {k}rd smallest element is: {result}\")"
      ],
      "metadata": {
        "colab": {
          "base_uri": "https://localhost:8080/"
        },
        "id": "qFxNZYG5yoxo",
        "outputId": "45797f57-7829-4655-b73a-89205e3fdb2e"
      },
      "execution_count": null,
      "outputs": [
        {
          "output_type": "stream",
          "name": "stdout",
          "text": [
            "The 3rd smallest element is: 5\n"
          ]
        }
      ]
    }
  ]
}